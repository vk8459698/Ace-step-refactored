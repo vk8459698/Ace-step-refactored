{
 "cells": [
  {
   "cell_type": "code",
   "execution_count": 1,
   "id": "52b30396-a299-4c11-8107-ea3133406eab",
   "metadata": {},
   "outputs": [],
   "source": [
    "# %load_ext autoreload\n",
    "# %autoreload 2"
   ]
  },
  {
   "cell_type": "markdown",
   "id": "8b2266ab-cfb9-4eeb-bdf3-028363ae53f5",
   "metadata": {},
   "source": [
    "# Imports"
   ]
  },
  {
   "cell_type": "code",
   "execution_count": 1,
   "id": "520ae5f6-1267-4f67-9a48-c19b722eef3c",
   "metadata": {},
   "outputs": [],
   "source": [
    "import os\n",
    "import csv\n",
    "import tqdm\n",
    "import itertools\n",
    "import time\n",
    "import json\n",
    "import sys\n",
    "import glob\n",
    "import numpy as np\n",
    "import pandas as pd\n",
    "from IPython.display import Audio\n",
    "from sklearn.model_selection import ParameterGrid\n",
    "import librosa"
   ]
  },
  {
   "cell_type": "code",
   "execution_count": 2,
   "id": "d121d811-d8f5-4b73-898b-8bbaafa0b57c",
   "metadata": {},
   "outputs": [],
   "source": [
    "from acestep.pipeline_ace_step import ACEStepPipeline"
   ]
  },
  {
   "cell_type": "markdown",
   "id": "f9adb24b-ec57-4ebd-98f6-c3bd43c4435c",
   "metadata": {},
   "source": [
    "# Initialization"
   ]
  },
  {
   "cell_type": "code",
   "execution_count": 3,
   "id": "25b2a7b0-af5c-456a-bce7-d42883c828a4",
   "metadata": {},
   "outputs": [],
   "source": [
    "PARENT_DIR='/home/rileywilliams/soundverse/ACE-step-lowvram/'\n",
    "style_prompts_path = f'{PARENT_DIR}/scripts/rjw/test_data/styles.csv'\n",
    "lyrics_path = f'{PARENT_DIR}/scripts/rjw/test_data/lyrics.txt'"
   ]
  },
  {
   "cell_type": "code",
   "execution_count": 4,
   "id": "3359ec98-1da1-427e-ad5b-58da7b77def3",
   "metadata": {},
   "outputs": [],
   "source": [
    "ASH_AUDIO_PATH = \"/mnt/disks/audio-ai-research-speech-data/avi_ash_PROCESSED\"\n",
    "all_ash_paths = glob.glob(os.path.join(ASH_AUDIO_PATH, '*'))\n",
    "ASH_TEST_AUDIO_PATH = os.path.join(ASH_AUDIO_PATH, \"12_Always On The Run__003.wav\")\n",
    "# melody, sr = torchaudio.load(ASH_TEST_AUDIO_PATH)"
   ]
  },
  {
   "cell_type": "markdown",
   "id": "bcf6cae9-5ef7-4bd5-8faa-41b122666e82",
   "metadata": {},
   "source": [
    "# Dev"
   ]
  },
  {
   "cell_type": "markdown",
   "id": "6f5c3021-7b83-49c2-bf02-0d7465ae59b4",
   "metadata": {},
   "source": [
    "### Gen Prompts, Seed, and Lyrics "
   ]
  },
  {
   "cell_type": "code",
   "execution_count": 36,
   "id": "d5139e30-0f38-4723-bfc8-8d5a7d48cbdc",
   "metadata": {},
   "outputs": [],
   "source": [
    "style_prompts = [\n",
    "    \"Calming lofi beats\",\n",
    "    \"Upbeat 80s synthwave with gated drums and analog synths\",\n",
    "    \"Hardcore metal with breakdowns and double bass\",\n",
    "    \"Baroque-inspired orchestral piece with harpsichord and strings\",\n",
    "    \"Ambient drone with slowly evolving textures\",\n",
    "    \"West Coast G-funk with talkbox and bass groove\",\n",
    "    \"Traditional Japanese shamisen and shakuhachi duet\",\n",
    "    \"Experimental glitch with unpredictable rhythmic stutters\",\n",
    "    \"Cinematic trailer music with rising tension and orchestral hits\",\n",
    "    \"Melodic house with warm synths\",\n",
    "]\n",
    "\n",
    "lyrics = [\n",
    "\"\"\"\n",
    "[Intro]\n",
    "Turn it up, turn it on, let the signal flow\n",
    "One more tweak, watch the levels grow\n",
    "Sweep the filter, ride the wave\n",
    "We’re dialin’ in the sound we crave\n",
    "\n",
    "[Chorus]\n",
    "Test the tone, bend the air\n",
    "Find the shape that’s really there\n",
    "Turn the knob, adjust the phase\n",
    "Searchin’ for that sweet upgrade\n",
    "Echoes bounce, parameters sing\n",
    "We’re tuning up everything\n",
    "\n",
    "[Verse]\n",
    "Latency’s low, the buffer’s clean\n",
    "Crunching numbers in the machine\n",
    "From white noise to melody\n",
    "It’s all just code and symmetry\n",
    "Drop a beat, reshape the pitch\n",
    "One hot swap and flip the switch\n",
    "\"\"\",\n",
    "\"[Instrumental]\"\n",
    "]"
   ]
  },
  {
   "cell_type": "markdown",
   "id": "8c18ba3b-3c6c-4c52-96a7-8ad7be80a4c5",
   "metadata": {},
   "source": [
    "#### Save style and lyrics prompts once written"
   ]
  },
  {
   "cell_type": "code",
   "execution_count": 7,
   "id": "e27b6867-607b-4fe3-85a1-343a11deaad9",
   "metadata": {},
   "outputs": [],
   "source": [
    "# pd.DataFrame(data=style_prompts).to_csv(\n",
    "#     path_or_buf=style_prompts_path,\n",
    "#     header=False, index=False\n",
    "# )\n",
    "# pd.DataFrame(data=lyrics).to_csv(\n",
    "#     path_or_buf=lyrics_path,\n",
    "#     header=False, index=False\n",
    "# )\n",
    "# with open(style_prompts_path, 'w', newline='') as csvfile:\n",
    "#     writer = csv.writer(csvfile)\n",
    "#     for _style in style_prompts:\n",
    "#         writer.writerow([_style])\n",
    "\n",
    "\n",
    "# with open(lyrics_path, 'w') as f:\n",
    "#     f.write(lyrics)"
   ]
  },
  {
   "cell_type": "markdown",
   "id": "4c08d662-9b1f-4993-ae8a-7c2f30886250",
   "metadata": {},
   "source": [
    "#### Load style and lyrics prompts once written"
   ]
  },
  {
   "cell_type": "code",
   "execution_count": 5,
   "id": "e6e399d4-eb79-42fa-83aa-7765b874673c",
   "metadata": {},
   "outputs": [],
   "source": [
    "style_prompts = (\n",
    "    pd.read_csv(filepath_or_buffer=style_prompts_path, header=None)\n",
    "    .values.flatten()\n",
    "    .tolist()\n",
    ")\n",
    "lyrics = (\n",
    "    pd.read_csv(filepath_or_buffer=lyrics_path, header=None)\n",
    "    .values.flatten()\n",
    "    .tolist()\n",
    ")"
   ]
  },
  {
   "cell_type": "code",
   "execution_count": 6,
   "id": "dce2d781-2e85-4f64-aadd-b27d06f7229c",
   "metadata": {},
   "outputs": [],
   "source": [
    "style_prompts = pd.read_csv(\n",
    "    filepath_or_buffer=style_prompts_path,\n",
    "    header=None\n",
    ").values.flatten().tolist()\n",
    "lyrics = pd.read_csv(\n",
    "    filepath_or_buffer=lyrics_path,\n",
    "    header=None\n",
    ").values.flatten().tolist()\n",
    "pairs = list(itertools.product(style_prompts, lyrics))"
   ]
  },
  {
   "cell_type": "code",
   "execution_count": 30,
   "id": "a5e3ebc9-dc31-4a82-b8f8-3d424529bdd0",
   "metadata": {},
   "outputs": [
    {
     "data": {
      "text/plain": [
       "[(0, 'Calming lofi beats'),\n",
       " (1, 'Upbeat 80s synthwave with gated drums and analog synths'),\n",
       " (2, 'Hardcore metal with breakdowns and double bass'),\n",
       " (3, 'Baroque-inspired orchestral piece with harpsichord and strings'),\n",
       " (4, 'Ambient drone with slowly evolving textures'),\n",
       " (5, 'West Coast G-funk with talkbox and bass groove'),\n",
       " (6, 'Traditional Japanese shamisen and shakuhachi duet'),\n",
       " (7, 'Experimental glitch with unpredictable rhythmic stutters'),\n",
       " (8, 'Cinematic trailer music with rising tension and orchestral hits'),\n",
       " (9, 'Melodic house with warm synths')]"
      ]
     },
     "execution_count": 30,
     "metadata": {},
     "output_type": "execute_result"
    }
   ],
   "source": [
    "list(enumerate(style_prompts))"
   ]
  },
  {
   "cell_type": "markdown",
   "id": "bd4ecbfa-eaff-4bc2-b586-a64eb1346adf",
   "metadata": {},
   "source": [
    "# Inference Code"
   ]
  },
  {
   "cell_type": "code",
   "execution_count": 7,
   "id": "16d06e9c-13a6-449c-b3f7-a30449b9abdc",
   "metadata": {},
   "outputs": [],
   "source": [
    "BF16=False\n",
    "TORCH_COMPILE=True\n",
    "CPU_OFFLOAD=True\n",
    "OVERLAPPED_DECODE=False # maybe try false?\n",
    "\n",
    "try:\n",
    "    del model_demo\n",
    "except:\n",
    "    pass\n",
    "model_demo = ACEStepPipeline(\n",
    "    # checkpoint_dir=checkpoint_path,\n",
    "    dtype=\"bfloat16\" if BF16 else \"float32\",\n",
    "    torch_compile=TORCH_COMPILE,\n",
    "    cpu_offload=CPU_OFFLOAD,\n",
    "    overlapped_decode=OVERLAPPED_DECODE\n",
    ")"
   ]
  },
  {
   "cell_type": "code",
   "execution_count": 8,
   "id": "4e72f9ea-9334-4491-b99f-d642c462498a",
   "metadata": {
    "scrolled": true
   },
   "outputs": [],
   "source": [
    "save_path='/home/rileywilliams/soundverse/ACE-step-lowvram/outputs'"
   ]
  },
  {
   "cell_type": "code",
   "execution_count": null,
   "id": "839da6b3-a122-4e0c-a8ad-59a3885704d9",
   "metadata": {},
   "outputs": [
    {
     "name": "stderr",
     "output_type": "stream",
     "text": [
      "\u001b[32m2025-06-26 21:06:52.867\u001b[0m | \u001b[1mINFO    \u001b[0m | \u001b[36macestep.pipeline_ace_step\u001b[0m:\u001b[36m__call__\u001b[0m:\u001b[36m1488\u001b[0m - \u001b[1mModel loaded in 0.00 seconds.\u001b[0m\n",
      "\u001b[32m2025-06-26 21:06:54.715\u001b[0m | \u001b[1mINFO    \u001b[0m | \u001b[36macestep.pipeline_ace_step\u001b[0m:\u001b[36m__call__\u001b[0m:\u001b[36m1536\u001b[0m - \u001b[1mrandom audio duration: 106.97140604111421\u001b[0m\n",
      "\u001b[32m2025-06-26 21:06:58.267\u001b[0m | \u001b[1mINFO    \u001b[0m | \u001b[36macestep.pipeline_ace_step\u001b[0m:\u001b[36mtext2music_diffusion_process\u001b[0m:\u001b[36m847\u001b[0m - \u001b[1mcfg_type: apg, guidance_scale: 20.0, omega_scale: 80.0\u001b[0m\n",
      "\u001b[32m2025-06-26 21:06:58.270\u001b[0m | \u001b[1mINFO    \u001b[0m | \u001b[36macestep.pipeline_ace_step\u001b[0m:\u001b[36mtext2music_diffusion_process\u001b[0m:\u001b[36m1072\u001b[0m - \u001b[1mstart_idx: 20, end_idx: 60, num_inference_steps: 80\u001b[0m\n",
      "159it [04:58,  1.88s/it]                                                                                                     \n"
     ]
    }
   ],
   "source": [
    "MANUAL_SEEDS=296772417648513\n",
    "# LYRICS='[Instrumental]'\n",
    "# PROMPT='lofi beats'\n",
    "# PROMPT='classical, piano, instrumental'\n",
    "# PROMPT='soft jazz, light piano'\n",
    "# PROMPT=\"edm, synth, bass, euphoric, energetic\"\n",
    "# PROMPT=\"\"\n",
    "# PROMPT=\"hardcore metal riffs\"\n",
    "# AUDIO_DURATION = 43\n",
    "AUDIO_DURATION=-1\n",
    "\n",
    "for _prompt, _lyrics in pairs:\n",
    "    _prompt = style_prompts[4]\n",
    "    _lyrics = lyrics[0]\n",
    "    output_paths, input_params_json = model_demo(\n",
    "            format=\"wav\",\n",
    "            audio_duration=AUDIO_DURATION, #: float = 60.0,\n",
    "            prompt=_prompt,\n",
    "            lyrics=_lyrics, #     lyrics: str = None,\n",
    "            infer_step = 80,\n",
    "            scheduler_type = \"heun\",\n",
    "            # scheduler_type = \"pingpong\",\n",
    "            # scheduler_type = \"euler\", # \"euler\" is recommended, heun will take more time\n",
    "            cfg_type = \"apg\",\n",
    "            omega_scale = 80.0, # (this is \"granularity\" in the GUI, defaults to 10)\n",
    "            manual_seeds=MANUAL_SEEDS, # None,\n",
    "            guidance_scale = 20.0, # When guidance_scale_lyric > 1 and guidance_scale_text > 1, the guidance scale will not be applied.\n",
    "            guidance_interval=0.5,\n",
    "            guidance_interval_decay = 0.0,\n",
    "            min_guidance_scale = 3.0,\n",
    "            use_erg_tag=True,\n",
    "            use_erg_lyric=True,\n",
    "            use_erg_diffusion=True,\n",
    "        \n",
    "            # use_erg_tag: bool = True,\n",
    "            # use_erg_lyric: bool = True,\n",
    "            # use_erg_diffusion: bool = True,\n",
    "            # guidance_scale_text: float = 0.0,\n",
    "            # guidance_scale_lyric: float = 0.0,\n",
    "            # guidance_scale_text = 7,\n",
    "            # guidance_scale_lyric = 2,\n",
    "        \n",
    "            # audio2audio_enable = True,\n",
    "            # ref_audio_strength = 0.10, # 0.18 was good on Gradio site...\n",
    "            # ref_audio_input = ASH_TEST_AUDIO_PATH,\n",
    "        save_path=save_path\n",
    "    )\n",
    "    print(output_paths)\n",
    "    break"
   ]
  },
  {
   "cell_type": "code",
   "execution_count": null,
   "id": "3970e279-0343-44ff-99e1-b1c9a8a15055",
   "metadata": {},
   "outputs": [],
   "source": [
    "# input_params_json\n",
    "# output_paths\n",
    "# input_params_json"
   ]
  },
  {
   "cell_type": "code",
   "execution_count": null,
   "id": "f9b7bea9-5d9c-45df-92fd-7875467fff99",
   "metadata": {},
   "outputs": [],
   "source": [
    "Audio(output_paths)\n",
    "# Audio(fp)"
   ]
  },
  {
   "cell_type": "code",
   "execution_count": 12,
   "id": "c2565066-0504-4b89-b6e6-43c0dc4e6462",
   "metadata": {},
   "outputs": [],
   "source": [
    "# fp = os.path.join(\n",
    "#     '/home/rileywilliams/soundverse/ACE-step-lowvram/'    \n",
    "#     'outputs/output_20250625235729_0.wav'\n",
    "# )\n",
    "# Audio(fp)"
   ]
  },
  {
   "cell_type": "code",
   "execution_count": null,
   "id": "5f9716d7-6e03-4339-8535-95b785061021",
   "metadata": {},
   "outputs": [],
   "source": []
  }
 ],
 "metadata": {
  "kernelspec": {
   "display_name": "ace_step",
   "language": "python",
   "name": "ace_step"
  },
  "language_info": {
   "codemirror_mode": {
    "name": "ipython",
    "version": 3
   },
   "file_extension": ".py",
   "mimetype": "text/x-python",
   "name": "python",
   "nbconvert_exporter": "python",
   "pygments_lexer": "ipython3",
   "version": "3.10.16"
  }
 },
 "nbformat": 4,
 "nbformat_minor": 5
}
