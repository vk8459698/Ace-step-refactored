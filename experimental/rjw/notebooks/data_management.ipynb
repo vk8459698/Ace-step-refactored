{
 "cells": [
  {
   "cell_type": "code",
   "execution_count": 3,
   "id": "300fd3eb-ecd6-4945-8f5f-2016f26fe597",
   "metadata": {},
   "outputs": [
    {
     "name": "stdout",
     "output_type": "stream",
     "text": [
      "The autoreload extension is already loaded. To reload it, use:\n",
      "  %reload_ext autoreload\n"
     ]
    }
   ],
   "source": [
    "%load_ext autoreload\n",
    "%autoreload 2"
   ]
  },
  {
   "cell_type": "markdown",
   "id": "f28cd655-9aa0-4c5d-8b5b-dd1068e866ae",
   "metadata": {},
   "source": [
    "# Imports"
   ]
  },
  {
   "cell_type": "code",
   "execution_count": 64,
   "id": "e27be911-494b-41bf-9e42-613825f50ba2",
   "metadata": {},
   "outputs": [],
   "source": [
    "import pprint\n",
    "pp = pprint.PrettyPrinter(indent=4)\n",
    "from datasets import Dataset\n",
    "from pathlib import Path\n",
    "import os, sys\n",
    "import pandas as pd\n",
    "import numpy as np\n",
    "import json\n",
    "from tqdm import tqdm\n",
    "import torch\n",
    "import argparse\n",
    "\n",
    "\n",
    "import h5py\n",
    "import hdf5plugin\n",
    "import torch\n",
    "import torch.nn\n",
    "import torch.nn.functional as F\n",
    "import torchaudio\n",
    "from torch.utils.data import DataLoader\n",
    "from tqdm import tqdm\n",
    "from transformers import AutoModel, Wav2Vec2FeatureExtractor\n",
    "import uuid\n",
    "# from acestep.pipeline_ace_step import ACEStepPipeline\n",
    "# from acestep.text2music_dataset import Text2MusicDatase"
   ]
  },
  {
   "cell_type": "code",
   "execution_count": 2,
   "id": "fce904d7-0656-4de3-807e-b56998baf997",
   "metadata": {},
   "outputs": [],
   "source": [
    "PROJECT_DIR=\"/home/rileywilliams/soundverse/ACE-step-lowvram\""
   ]
  },
  {
   "cell_type": "markdown",
   "id": "f02a3cac-6a3c-498b-87f4-1b9b395c2025",
   "metadata": {},
   "source": [
    "# Initializationm"
   ]
  },
  {
   "cell_type": "code",
   "execution_count": 61,
   "id": "928635cf-06a0-45ce-80f0-2020b06b7c0f",
   "metadata": {},
   "outputs": [],
   "source": [
    "AUDIO_SRC_DIR=\"/mnt/disks/audio-ai-research-speech-data/rjw_audio/Riley_Full_Catalogue_PROCESSED/\"\n",
    "NEW_AUDIO_SRC_DIR=\"/mnt/disks/lora_training_data/rjw_all_preprocessed/\"\n",
    "annotations_manifest_file=os.path.join(\n",
    "    PROJECT_DIR,\n",
    "    *['experimental/rjw/', 'raw_data_rjw.csv']\n",
    ")\n",
    "DATASET_DIR=\"/mnt/disks/audio-ai-research-speech-data/ace_step_datasets/rjw_all_LoRa_data\"\n",
    "PROCESSED_DATASET_DIR=\"$DATASET_DIR/processed\""
   ]
  },
  {
   "cell_type": "code",
   "execution_count": 84,
   "id": "c9bfdb09-d2ab-4d50-b069-b1d5fe27aba5",
   "metadata": {},
   "outputs": [],
   "source": [
    "def format_example_json_to_prompt(\n",
    "    example, split_phrases=True, combine_for_tags=False, prepended_trigger_word=None\n",
    "):\n",
    "    analysis = example.get(\"analysis\")\n",
    "    if analysis is not None:\n",
    "        genres = example[\"analysis\"][\"genre\"][:3]  # take top 3 genres\n",
    "        tempo = example[\"analysis\"][\"tempo\"]\n",
    "    else:\n",
    "        genres, tempo = [\"\"], \"\"\n",
    "    prompt = (\n",
    "        example[\"expanded\"].rstrip(\".\")\n",
    "        + f'. In the genre of {(\" and \").join(genres)}. '\n",
    "        + tempo.capitalize()\n",
    "    )\n",
    "    if prepended_trigger_word is not None:\n",
    "        prompt = ('. ').join([prepended_trigger_word, prompt])\n",
    "    if split_phrases:\n",
    "        prompt = prompt.split(\". \")\n",
    "    if combine_for_tags:\n",
    "        prepended_trigger_word\n",
    "        return ','.join(prompt).strip()\n",
    "    return prompt"
   ]
  },
  {
   "cell_type": "code",
   "execution_count": 59,
   "id": "193d6511-c8ca-4276-88bb-04070fa62fc5",
   "metadata": {},
   "outputs": [],
   "source": [
    " # os.listdir(DATASET_DIR)#[0]\n",
    " # os.listdir(DATASET_DIR)\n",
    "anno_df = pd.read_csv(annotations_manifest_file)\n",
    "single_record = anno_df.to_dict(orient=\"records\")[0]\n",
    "formatted_response = eval(single_record[\"formatted_response\"])"
   ]
  },
  {
   "cell_type": "code",
   "execution_count": 75,
   "id": "ea6ff422-30e5-45ad-a3ae-6d842c5819fc",
   "metadata": {},
   "outputs": [
    {
     "name": "stdout",
     "output_type": "stream",
     "text": [
      "my_uuid: 4abe0dc877704be489c89dc07927921f\n"
     ]
    },
    {
     "data": {
      "text/plain": [
       "'4abe0dc877704be489c89dc07927921f'"
      ]
     },
     "execution_count": 75,
     "metadata": {},
     "output_type": "execute_result"
    }
   ],
   "source": [
    "my_uuid = uuid.uuid4().hex\n",
    "print(f'my_uuid: {my_uuid}')"
   ]
  },
  {
   "cell_type": "code",
   "execution_count": 87,
   "id": "b14f2c66-67b5-48ba-82f5-7db2740aa661",
   "metadata": {
    "scrolled": true
   },
   "outputs": [],
   "source": [
    "for _index, _row in anno_df.iterrows():\n",
    "    filepath = _row['filepath']\n",
    "    src_basename = os.path.basename(filepath)\n",
    "    src_basename, src_ext = os.path.splitext(src_basename)\n",
    "    prompt_dst_filename = os.path.join(NEW_AUDIO_SRC_DIR, src_basename + '_prompt.txt')\n",
    "    lyrics_dst_filename = os.path.join(NEW_AUDIO_SRC_DIR, src_basename + '_lyrics.txt')\n",
    "    \n",
    "    formatted_response = eval(_row[\"formatted_response\"])\n",
    "\n",
    "    text_to_save = format_example_json_to_prompt(\n",
    "        example=formatted_response,\n",
    "        combine_for_tags=True,\n",
    "        prepended_trigger_word=my_uuid\n",
    "    )\n",
    "    # print(text_to_save)\n",
    "    with open(prompt_dst_filename, \"w\", encoding=\"utf-8\", newline=\"\\n\") as f:\n",
    "        f.write(text_to_save)\n",
    "\n",
    "    lyrics = \"[instrumental]\"\n",
    "    with open(lyrics_dst_filename, \"w\", encoding=\"utf-8\", newline=\"\\n\") as f:\n",
    "        f.write(lyrics)"
   ]
  },
  {
   "cell_type": "code",
   "execution_count": 49,
   "id": "93c2d2f7-e29d-4d39-a4bf-c808f89dadbe",
   "metadata": {},
   "outputs": [
    {
     "name": "stdout",
     "output_type": "stream",
     "text": [
      "[   'filepath',\n",
      "    'raw_response',\n",
      "    'execution_time',\n",
      "    'formatted_response',\n",
      "    'analysis',\n",
      "    'descriptive',\n",
      "    'expanded',\n",
      "    'simplified',\n",
      "    'synonyms',\n",
      "    'use_cases']\n"
     ]
    }
   ],
   "source": [
    "pp.pprint(list(single_record.keys()))\n",
    "# pp.pprint(single_record[\"formatted_response\"])\n"
   ]
  },
  {
   "cell_type": "code",
   "execution_count": 38,
   "id": "c2f043c7-42ae-45f6-aee2-baf1637d8444",
   "metadata": {},
   "outputs": [
    {
     "name": "stdout",
     "output_type": "stream",
     "text": [
      "{   'analysis': \"{'genre': ['electronic', 'dance', 'ambient'], 'instruments': \"\n",
      "                \"['synthesizer', 'drummachine', 'piano', 'bass'], 'tempo': \"\n",
      "                \"'118 BPM', 'mood': ['energetic', 'futuristic', 'hypnotic']}\",\n",
      "    'descriptive': 'The audio features a pulsating electronic beat with '\n",
      "                   'synthesized sounds creating an immersive, futuristic '\n",
      "                   'atmosphere.',\n",
      "    'execution_time': 644.9457767250024,\n",
      "    'expanded': 'Dance music, ambient music',\n",
      "    'filepath': '/mnt/disks/audio-ai-research-speech-data/rjw_audio/Riley_Full_Catalogue_PROCESSED/MERIDIAN_Lessons_in_Falling_MASTER_2023_07_04_00_16bit__000 '\n",
      "                'copy.wav',\n",
      "    'formatted_response': \"{'simplified': 'Electronic music', 'expanded': \"\n",
      "                          \"'Dance music, ambient music', 'descriptive': 'The \"\n",
      "                          'audio features a pulsating electronic beat with '\n",
      "                          'synthesized sounds creating an immersive, '\n",
      "                          \"futuristic atmosphere.', 'synonyms': 'Synth - based \"\n",
      "                          \"music, electronic - dance music', 'use_cases': \"\n",
      "                          \"'Background music for nightclubs, soundtracks for \"\n",
      "                          \"futuristic movies', 'analysis': {'genre': \"\n",
      "                          \"['electronic', 'dance', 'ambient'], 'instruments': \"\n",
      "                          \"['synthesizer', 'drummachine', 'piano', 'bass'], \"\n",
      "                          \"'tempo': '118 BPM', 'mood': ['energetic', \"\n",
      "                          \"'futuristic', 'hypnotic']}, 'lyrical_rap_check': \"\n",
      "                          'False}',\n",
      "    'raw_response': '```json\\n'\n",
      "                    '{\\n'\n",
      "                    '    \"simplified\": \"Electronic music\",\\n'\n",
      "                    '    \"expanded\": \"Dance music, ambient music\",\\n'\n",
      "                    '    \"descriptive\": \"The audio features a pulsating '\n",
      "                    'electronic beat with synthesized sounds creating an '\n",
      "                    'immersive, futuristic atmosphere.\",\\n'\n",
      "                    '    \"synonyms\": \"Synth - based music, electronic - dance '\n",
      "                    'music\",\\n'\n",
      "                    '    \"use_cases\": \"Background music for nightclubs, '\n",
      "                    'soundtracks for futuristic movies\",\\n'\n",
      "                    '    \"analysis\": {\\n'\n",
      "                    '        \"genre\": [\"electronic\", \"dance\", \"ambient\"],\\n'\n",
      "                    '        \"instruments\": [\"synthesizer\", \"drummachine\", '\n",
      "                    '\"piano\", \"bass\"],\\n'\n",
      "                    '        \"tempo\": \"118 BPM\",\\n'\n",
      "                    '        \"mood\": [\"energetic\", \"futuristic\", \"hypnotic\"]\\n'\n",
      "                    '    },\\n'\n",
      "                    '    \"lyrical_rap_check\": false\\n'\n",
      "                    '}\\n'\n",
      "                    '```',\n",
      "    'simplified': 'Electronic music',\n",
      "    'synonyms': 'Synth - based music, electronic - dance music',\n",
      "    'use_cases': 'Background music for nightclubs, soundtracks for futuristic '\n",
      "                 'movies'}\n"
     ]
    }
   ],
   "source": [
    "\n",
    "pp.pprint(single_record)"
   ]
  },
  {
   "cell_type": "code",
   "execution_count": null,
   "id": "934c052b-2fd6-4e8c-99cc-86ebabe414b5",
   "metadata": {},
   "outputs": [],
   "source": []
  }
 ],
 "metadata": {
  "kernelspec": {
   "display_name": "ace_step",
   "language": "python",
   "name": "ace_step"
  },
  "language_info": {
   "codemirror_mode": {
    "name": "ipython",
    "version": 3
   },
   "file_extension": ".py",
   "mimetype": "text/x-python",
   "name": "python",
   "nbconvert_exporter": "python",
   "pygments_lexer": "ipython3",
   "version": "3.10.16"
  }
 },
 "nbformat": 4,
 "nbformat_minor": 5
}
